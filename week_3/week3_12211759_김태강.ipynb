{
 "cells": [
  {
   "cell_type": "code",
   "execution_count": 30,
   "id": "fd7b56a5-9f33-40a2-8616-ae7f5479e671",
   "metadata": {},
   "outputs": [
    {
     "name": "stdout",
     "output_type": "stream",
     "text": [
      "7 4 1 4 8 3 4 1 9 10 \n"
     ]
    },
    {
     "name": "stdin",
     "output_type": "stream",
     "text": [
      "찾는 정수:  1\n"
     ]
    },
    {
     "name": "stdout",
     "output_type": "stream",
     "text": [
      "찾는 정수가 몇 번째 인덱스에 있는지:  2\n",
      "찾는 정수의 갯수 :  2\n",
      "7 4 4 8 3 4 9 10 "
     ]
    }
   ],
   "source": [
    "import random\n",
    "\n",
    "arr = []\n",
    "for i in range(10):\n",
    "    arr.append(random.randint(1, 10)) #랜덤으로 받은 숫자 하나하나를 arr에 append(맨 뒤에) 넣는다\n",
    "for i in range(10):\n",
    "    print(arr[i], end = ' ') #현재 들어있는 정수를 출력\n",
    "print()\n",
    "\n",
    "n = int(input('찾는 정수: ' ))\n",
    "\n",
    "print(\"찾는 정수가 몇 번째 인덱스에 있는지: \", (arr.index(n)))\n",
    "print('찾는 정수의 갯수 : ', arr.count(n))\n",
    "\n",
    "for _ in range(arr.count(n)): #정수의 갯수 만큼 반복 문을 진행해 삭제한다.\n",
    "    arr.remove(n)\n",
    "\n",
    "for i in range(len(arr)): #리스트에 길이만큼 출력\n",
    "    print(arr[i], end = ' ') "
   ]
  },
  {
   "cell_type": "code",
   "execution_count": 5,
   "id": "004be7f1-9015-4242-a561-219e3190200f",
   "metadata": {},
   "outputs": [
    {
     "name": "stdout",
     "output_type": "stream",
     "text": [
      "당청번호:  3 19 21 26 31 42 보너스 번호:  9 "
     ]
    }
   ],
   "source": [
    "import random\n",
    "\n",
    "arr = []\n",
    "\n",
    "count = 0\n",
    "while count != 6: #중복을 방지하기 위해 if 문을 사용하고 6개 갯수를 채울 때 까지 반복한다.\n",
    "    temp = random.randint(1, 45)\n",
    "    if temp not in arr:\n",
    "        arr.append(temp)\n",
    "        count += 1 #추가후 count 1 증가\n",
    "\n",
    "arr.sort() #정렬\n",
    "\n",
    "str1 = '당청번호: ' #당첨번호 str\n",
    "str2 = '보너스 번호: ' #보너스 번호 str\n",
    "\n",
    "arr.insert(0, str1) #당첨번호를 맨 앞에\n",
    "arr.insert(7, str2) #보너스 번호를 맨 뒤에 삽입한다.\n",
    "\n",
    "while count != 7:\n",
    "    temp = random.randint(1, 45)\n",
    "    if temp not in arr:\n",
    "        arr.append(temp)\n",
    "        count += 1\n",
    "#추가 보너스 번호를 추가한다.\n",
    "\n",
    "for i in range(9):\n",
    "    print(arr[i], end = ' ')"
   ]
  },
  {
   "cell_type": "code",
   "execution_count": 31,
   "id": "8616285b-91df-45b1-b3e9-bc5a6576a14b",
   "metadata": {},
   "outputs": [
    {
     "name": "stdin",
     "output_type": "stream",
     "text": [
      "양수 입력(3 이상):  8\n"
     ]
    },
    {
     "name": "stdout",
     "output_type": "stream",
     "text": [
      "1 1 2 3 5 8 13 21 "
     ]
    }
   ],
   "source": [
    "def cal_fibo(n): #피보나치 수를 계산한다.\n",
    "    for i in range(n+1): \n",
    "        if i == 0 or i == 1: #0, 1 일때 fibo는 1 이다\n",
    "            arr[i] = 1\n",
    "        elif i == 2:\n",
    "            arr[i] = 2 #2일 때 fibo는 2이다.\n",
    "        else: #3부터는 그 전, 전전 인덱스에 합과 같다.\n",
    "            arr[i] = arr[i - 1] + arr[i - 2]\n",
    "    return arr[n]\n",
    "\n",
    "n = int(input('양수 입력(3 이상): '))\n",
    "\n",
    "#n = 3일떄 피보나치의 수는 앞의 두 인덱스의 수에 영향을 받는다 이 성질을 이용해 코드를 작성했다.\n",
    "arr = [0] * (n + 1)\n",
    "cal_fibo(n)\n",
    "for i in range(n):\n",
    "    print(arr[i], end = ' ')\n"
   ]
  },
  {
   "cell_type": "code",
   "execution_count": 34,
   "id": "53869ec3-d90f-4140-a35a-77c565a7577a",
   "metadata": {},
   "outputs": [
    {
     "name": "stdin",
     "output_type": "stream",
     "text": [
      "국어  100\n",
      "영어  25\n",
      "수학  30\n",
      "과학  40\n"
     ]
    }
   ],
   "source": [
    "korean = int(input('국어 '))\n",
    "english = int(input('영어 '))\n",
    "math = int(input('수학 '))\n",
    "science = int(input('과학 '))\n",
    "# 각각의 과목을 입력받는다."
   ]
  },
  {
   "cell_type": "code",
   "execution_count": 33,
   "id": "ded2c31a-142e-4405-a7d2-f18ec191453c",
   "metadata": {},
   "outputs": [
    {
     "name": "stdout",
     "output_type": "stream",
     "text": [
      "국어  100 점\n",
      "영어  25 점\n",
      "수학  30 점\n",
      "과학  40 점\n",
      "합계  195 점,  평균  48.75 점,  학점  F\n"
     ]
    }
   ],
   "source": [
    "\n",
    "sum = korean + english + math + science #과목의 합\n",
    "avg = sum / 4 #과목의 평균\n",
    "\n",
    "#if 문을 사용해 각 점수 별 학점을 정리했다.\n",
    "if avg >= 95:\n",
    "    score = 'A+'\n",
    "elif avg < 95 and avg >= 90:\n",
    "    score = 'A0'\n",
    "elif avg < 90 and avg >= 85:\n",
    "    score = 'B+'\n",
    "elif avg < 85 and avg >= 80:\n",
    "    score = 'B0'\n",
    "elif avg < 80 and avg >= 75:\n",
    "    score = 'C+'\n",
    "elif avg < 75 and avg >= 70:\n",
    "    score = 'C0'\n",
    "elif avg < 70 and avg >= 65:\n",
    "    score = 'D+'\n",
    "elif avg < 65 and avg >= 60:\n",
    "    score = 'D0'\n",
    "elif avg < 60:\n",
    "    score = 'F'\n",
    "\n",
    "#각 과목 점수 출력\n",
    "print('국어 ', korean, '점')\n",
    "print('영어 ', english, '점')\n",
    "print('수학 ', math, '점')\n",
    "print('과학 ', science, '점')\n",
    "\n",
    "print('합계 ', sum, '점, ', end = ' ')\n",
    "print('평균 ', avg, '점, ', end = ' ' )\n",
    "print('학점 ', score)"
   ]
  },
  {
   "cell_type": "code",
   "execution_count": null,
   "id": "476252b7-c87c-4352-93b7-57b67584a1e2",
   "metadata": {},
   "outputs": [],
   "source": []
  }
 ],
 "metadata": {
  "kernelspec": {
   "display_name": "Python 3 (ipykernel)",
   "language": "python",
   "name": "python3"
  },
  "language_info": {
   "codemirror_mode": {
    "name": "ipython",
    "version": 3
   },
   "file_extension": ".py",
   "mimetype": "text/x-python",
   "name": "python",
   "nbconvert_exporter": "python",
   "pygments_lexer": "ipython3",
   "version": "3.12.4"
  }
 },
 "nbformat": 4,
 "nbformat_minor": 5
}
