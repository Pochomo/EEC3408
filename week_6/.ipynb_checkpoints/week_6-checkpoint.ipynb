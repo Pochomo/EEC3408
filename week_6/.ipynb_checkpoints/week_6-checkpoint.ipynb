{
 "cells": [
  {
   "cell_type": "markdown",
   "id": "9b79cdb6-3eef-43f9-941f-1a7a24541965",
   "metadata": {},
   "source": [
    "# 문제 #1"
   ]
  },
  {
   "cell_type": "code",
   "execution_count": 41,
   "id": "50f5f1dd-4fe7-4563-beaf-dc5741561b5a",
   "metadata": {},
   "outputs": [
    {
     "name": "stdout",
     "output_type": "stream",
     "text": [
      "원래 리스트:\n",
      "[1, 2, 3, 4, 5, 6, 7, 8, 9, 10]\n",
      "짝수:\n",
      "[2, 4, 6, 8, 10]\n",
      "홀수:\n",
      "[1, 3, 5, 7, 9]\n"
     ]
    }
   ],
   "source": [
    "arr = list(range(1,11))\n",
    "#짝수\n",
    "arr_even = list(filter(lambda x: x % 2 == 0,arr))\n",
    "#홀수\n",
    "arr_odd = list(filter(lambda x: x % 2 == 1, arr))\n",
    "\n",
    "print(\"원래 리스트:\")\n",
    "print(arr)\n",
    "print(\"짝수:\")\n",
    "print(arr_even)\n",
    "print(\"홀수:\")\n",
    "print(arr_odd)"
   ]
  },
  {
   "cell_type": "markdown",
   "id": "50a2f6eb-8f71-4a1a-94f5-0b792d89aa68",
   "metadata": {},
   "source": [
    "# 문제 #2"
   ]
  },
  {
   "cell_type": "code",
   "execution_count": 42,
   "id": "fd9dca80-2eee-41ab-993f-5365c293aa61",
   "metadata": {},
   "outputs": [
    {
     "name": "stdout",
     "output_type": "stream",
     "text": [
      "4\n",
      "5\n",
      "9\n",
      "True\n",
      "True\n",
      "원의 반지름: 9\n"
     ]
    }
   ],
   "source": [
    "class Circle:\n",
    "    def __init__(self, radius):\n",
    "        # 생성자\n",
    "        self.radius = radius\n",
    "    \n",
    "    def getRadius(self):\n",
    "        # 원의 반지름 반환 매드\n",
    "        return self.radius\n",
    "    \n",
    "    def __add__(self, other):\n",
    "        # + 연산자 오버로딩\n",
    "        return Circle(self.radius + other.radius)\n",
    "    \n",
    "    def __gt__(self, other):\n",
    "        # > 연산자 오버로딩\n",
    "        return self.radius > other.radius\n",
    "    \n",
    "    def __lt__(self, other):\n",
    "        # < 연산자 오버로딩\n",
    "        return self.radius < other.radius\n",
    "    \n",
    "    def __str__(self):\n",
    "        # 객체를 문자열로 표현 가능하게 해준다.\n",
    "        return f\"원의 반지름: {self.radius}\"\n",
    "\n",
    "c1 = Circle(4)\n",
    "print(c1.getRadius())\n",
    "\n",
    "c2 = Circle(5)\n",
    "print(c2.getRadius())\n",
    "\n",
    "c3 = c1 + c2\n",
    "print(c3.getRadius())\n",
    "\n",
    "print(c3 > c2)\n",
    "print(c1 < c2)\n",
    "\n",
    "print(c3)"
   ]
  },
  {
   "cell_type": "markdown",
   "id": "aa92c6ce-1476-41ef-bb3d-156a72129a03",
   "metadata": {},
   "source": [
    "# 문제 #3"
   ]
  },
  {
   "cell_type": "code",
   "execution_count": 44,
   "id": "a192b50d-6d7d-4f90-8462-bb2720ad2a86",
   "metadata": {},
   "outputs": [
    {
     "name": "stdin",
     "output_type": "stream",
     "text": [
      "국어 점수를 입력하세요:  30\n",
      "영어 점수를 입력하세요:  77\n",
      "수학 점수를 입력하세요:  24\n",
      "과학 점수를 입력하세요:  29\n"
     ]
    }
   ],
   "source": [
    "korean = int(input(\"국어 점수를 입력하세요: \"))\n",
    "english = int(input(\"영어 점수를 입력하세요: \"))\n",
    "math = int(input(\"수학 점수를 입력하세요: \"))\n",
    "science = int(input(\"과학 점수를 입력하세요: \"))\n",
    "\n",
    "# w로 해 파일을 작성\n",
    "f = open(\"문제3.txt\", 'w', encoding=\"utf-8\")\n",
    "f.write(f\"국어 점수는: {korean}\\n\")\n",
    "f.write(f\"영어 점수는: {english}\\n\")\n",
    "f.write(f\"수학 점수는: {math}\\n\")\n",
    "f.write(f\"과학 점수는: {science}\\n\")\n",
    "f.close()\n",
    "\n",
    "scores = []\n",
    "# 읽기 전용 r\n",
    "f = open(\"문제3.txt\", 'r', encoding=\"utf-8\")\n",
    "for line in f:\n",
    "    # : 기준으로 나누고 (split) [1] (숫자)를 뽑는다.\n",
    "    score = int(line.split(\":\")[1])\n",
    "    scores.append(score)\n",
    "f.close()\n",
    "\n",
    "total = sum(scores)\n",
    "average = total / len(scores)\n",
    "\n",
    "# w를 하면 이전 정보들이 사라지기때문에 a로 open\n",
    "f = open(\"문제3.txt\", 'a', encoding=\"utf-8\")\n",
    "f.write(f\"합계: {total}\\n\")\n",
    "f.write(f\"평균: {average:.2f}\\n\")\n",
    "f.close()\n"
   ]
  },
  {
   "cell_type": "markdown",
   "id": "a582cac8-1ccc-46c2-9d0f-c20733594049",
   "metadata": {},
   "source": [
    "# 문제 4"
   ]
  },
  {
   "cell_type": "code",
   "execution_count": 47,
   "id": "b0c9c6c7-3339-465e-8c91-468954d0870e",
   "metadata": {},
   "outputs": [
    {
     "name": "stdin",
     "output_type": "stream",
     "text": [
      "3*2^n 값을 입력해주세요:  24\n"
     ]
    },
    {
     "name": "stdout",
     "output_type": "stream",
     "text": [
      "                       *                        \n",
      "                      * *                       \n",
      "                     *****                      \n",
      "                    *     *                     \n",
      "                   * *   * *                    \n",
      "                  ***** *****                   \n",
      "                 *           *                  \n",
      "                * *         * *                 \n",
      "               *****       *****                \n",
      "              *     *     *     *               \n",
      "             * *   * *   * *   * *              \n",
      "            ***** ***** ***** *****             \n",
      "           *                       *            \n",
      "          * *                     * *           \n",
      "         *****                   *****          \n",
      "        *     *                 *     *         \n",
      "       * *   * *               * *   * *        \n",
      "      ***** *****             ***** *****       \n",
      "     *           *           *           *      \n",
      "    * *         * *         * *         * *     \n",
      "   *****       *****       *****       *****    \n",
      "  *     *     *     *     *     *     *     *   \n",
      " * *   * *   * *   * *   * *   * *   * *   * *  \n",
      "***** ***** ***** ***** ***** ***** ***** ***** \n"
     ]
    }
   ],
   "source": [
    "def valid_size(n):\n",
    "    # n이 3*2^k 형태인지 확인하는 함수\n",
    "    if n < 3:\n",
    "        return False\n",
    "    if n == 3:\n",
    "        return True\n",
    "    if n % 2 != 0:  # 2로 나누어 떨어지지 않으면 3*2^k 형태가 아님\n",
    "        return False\n",
    "    # 6이면 3 리턴 12면 6 리턴 재귀적으로 판단\n",
    "    return valid_size(n // 2)\n",
    "\n",
    "def make_star(i, j, n):\n",
    "    # n == 3 일때 가장 작은 삼각형을 그린다\n",
    "    if n == 3:\n",
    "        stars[i][j] = '*'\n",
    "        stars[i + 1][j - 1] = stars[i + 1][j + 1] = \"*\"\n",
    "        for k in range(-2, 3):\n",
    "            stars[i + 2][j + k] = \"*\"\n",
    "    else:\n",
    "        # n이 3보다 큰 경우 재귀적으로 처리\n",
    "        mid = n // 2\n",
    "        make_star(i, j, mid)\n",
    "        make_star(i + mid, j - mid, mid)\n",
    "        make_star(i + mid, j + mid, mid)\n",
    "\n",
    "try:\n",
    "    n = int(input(\"3*2^n 값을 입력해주세요: \"))\n",
    "    \n",
    "    if not valid_size(n):\n",
    "        raise ValueError(\"n 값에 대해오류가 발생했습니다. \")\n",
    "        \n",
    "    stars = [[' ']*2*n for _ in range(n)]\n",
    "    make_star(0, n-1, n)\n",
    "except ValueError as e:\n",
    "    print('값 오류:', e)\n",
    "else:\n",
    "    f = open(\"문제4.txt\", 'w', encoding=\"utf-8\")\n",
    "    for star in stars:\n",
    "        f.write(\"\".join(star))\n",
    "        f.write(\"\\n\")\n",
    "        #리스트를 붙여서 출력\n",
    "        print(\"\".join(star))\n",
    "    f.close()\n"
   ]
  },
  {
   "cell_type": "code",
   "execution_count": null,
   "id": "8675c2f2-47e6-4ff9-8b49-ac76af9c0036",
   "metadata": {},
   "outputs": [],
   "source": []
  }
 ],
 "metadata": {
  "kernelspec": {
   "display_name": "Python 3 (ipykernel)",
   "language": "python",
   "name": "python3"
  },
  "language_info": {
   "codemirror_mode": {
    "name": "ipython",
    "version": 3
   },
   "file_extension": ".py",
   "mimetype": "text/x-python",
   "name": "python",
   "nbconvert_exporter": "python",
   "pygments_lexer": "ipython3",
   "version": "3.12.7"
  }
 },
 "nbformat": 4,
 "nbformat_minor": 5
}
