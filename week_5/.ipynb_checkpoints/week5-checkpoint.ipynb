{
 "cells": [
  {
   "cell_type": "code",
   "execution_count": 100,
   "id": "efe43942-145c-4b52-a52c-ca01abd6607e",
   "metadata": {},
   "outputs": [],
   "source": [
    "class Fraction:\n",
    "        \n",
    "    def __init__(self, numerator, denominator):\n",
    "        try:\n",
    "            self.numerator = numerator\n",
    "            self.denominator = denominator\n",
    "            if denominator == 0:\n",
    "                raise Exception('분모가 0입니다')\n",
    "        except Exception as e:\n",
    "            print('분모에 0이 있으면 안돼요', e)\n",
    "            raise\n",
    "            \n",
    "    def __add__(self, other):\n",
    "        top = (self.numerator * other.denominator) + (other.numerator * self.denominator)\n",
    "        bottom = self.denominator * other.denominator\n",
    "        return Fraction(top, bottom)\n",
    "        \n",
    "    def __sub__(self, other):\n",
    "        top = (self.numerator * other.denominator) - (other.numerator * self.denominator)\n",
    "        bottom = self.denominator * other.denominator\n",
    "        return Fraction(top, bottom)\n",
    "        \n",
    "    def __mul__(self, other):\n",
    "        top = self.numerator * other.numerator\n",
    "        bottom = self.denominator * other.denominator\n",
    "        return Fraction(top, bottom)\n",
    "        \n",
    "    def __truediv__(self, other):\n",
    "        top = self.numerator * other.denominator\n",
    "        bottom = self.denominator * other.numerator\n",
    "        return Fraction(top, bottom)\n",
    "        \n",
    "    def __str__(self):\n",
    "        return f\"{self.numerator}/{self.denominator}\"\n",
    "    \n",
    "    "
   ]
  },
  {
   "cell_type": "code",
   "execution_count": 101,
   "id": "116cefdc-f1d2-4987-b14f-210c2199ce54",
   "metadata": {},
   "outputs": [
    {
     "name": "stdout",
     "output_type": "stream",
     "text": [
      "5/6\n",
      "1/6\n",
      "1/6\n",
      "3/2\n"
     ]
    }
   ],
   "source": [
    "a = Fraction(1, 2)\n",
    "b = Fraction(1, 3)\n",
    "print(a+b)\n",
    "print(a-b)\n",
    "print(a*b)\n",
    "print(a/b)"
   ]
  },
  {
   "cell_type": "code",
   "execution_count": null,
   "id": "69a410ef-899c-4c44-83bf-59336bc0c7dc",
   "metadata": {},
   "outputs": [],
   "source": []
  }
 ],
 "metadata": {
  "kernelspec": {
   "display_name": "Python 3 (ipykernel)",
   "language": "python",
   "name": "python3"
  },
  "language_info": {
   "codemirror_mode": {
    "name": "ipython",
    "version": 3
   },
   "file_extension": ".py",
   "mimetype": "text/x-python",
   "name": "python",
   "nbconvert_exporter": "python",
   "pygments_lexer": "ipython3",
   "version": "3.12.7"
  }
 },
 "nbformat": 4,
 "nbformat_minor": 5
}
