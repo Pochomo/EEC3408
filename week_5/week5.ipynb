{
 "cells": [
  {
   "cell_type": "code",
   "execution_count": null,
   "id": "efe43942-145c-4b52-a52c-ca01abd6607e",
   "metadata": {},
   "outputs": [
    {
     "name": "stdout",
     "output_type": "stream",
     "text": [
      "에러가 발생:  분모에 0 입력\n"
     ]
    }
   ],
   "source": [
    "class Fraction:\n",
    "    def __init__(self, numerator, denominator):\n",
    "        self.numerator = numerator\n",
    "        self.denominator = denominator\n",
    "\n",
    "        if self.denominator == 0:  #분모가 0일 때 예외 발생 시킴\n",
    "            raise Exception('분모에 0 입력')\n",
    "           \n",
    "    def __add__(self, other):\n",
    "                \n",
    "        return Fraction((self.numerator*other.denominator)+(other.numerator*self.denominator), \n",
    "                        self.denominator*other.denominator)\n",
    "    def __sub__(self, other):\n",
    "        return Fraction((self.numerator*other.denominator)-(other.numerator*self.denominator), \n",
    "                        self.denominator*other.denominator)\n",
    "    def __mul__(self, other):\n",
    "        return Fraction(self.numerator*other.numerator, self.denominator*other.denominator)\n",
    "\n",
    "    def __truediv__(self, other):\n",
    "        return Fraction(self.numerator*other.denominator, self.denominator*other.numerator)\n",
    "\n",
    "    def __str__(self):\n",
    "        return str(self.numerator)+' / '+str(self.denominator)\n",
    "        #return f'{self.numerator} / {self.denominator}\n",
    "\n",
    "try:\n",
    "    a = Fraction(1, 0)\n",
    "    b = Fraction(1, 3)\n",
    "except Exception as e: #분모가 0일 때 예외가 발생하면 이곳으로 이동하여 에러 메시지 출력\n",
    "    print('에러가 발생: ', e)\n",
    "else: # 예외가 발생하지 않았을 경우 실행\n",
    "    print(a+b)\n",
    "    print(a-b)\n",
    "    print(a*b)\n",
    "    print(a/b)"
   ]
  }
 ],
 "metadata": {
  "kernelspec": {
   "display_name": "base",
   "language": "python",
   "name": "python3"
  },
  "language_info": {
   "codemirror_mode": {
    "name": "ipython",
    "version": 3
   },
   "file_extension": ".py",
   "mimetype": "text/x-python",
   "name": "python",
   "nbconvert_exporter": "python",
   "pygments_lexer": "ipython3",
   "version": "3.12.7"
  }
 },
 "nbformat": 4,
 "nbformat_minor": 5
}
