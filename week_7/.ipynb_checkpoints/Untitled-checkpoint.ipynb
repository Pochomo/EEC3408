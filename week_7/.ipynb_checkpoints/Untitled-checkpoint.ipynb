{
 "cells": [
  {
   "cell_type": "code",
   "execution_count": 2,
   "id": "79d1f85e-4a7f-4c08-b791-0fc3917860b1",
   "metadata": {},
   "outputs": [
    {
     "data": {
      "text/plain": [
       "<re.Match object; span=(0, 1), match='가'>"
      ]
     },
     "execution_count": 2,
     "metadata": {},
     "output_type": "execute_result"
    }
   ],
   "source": [
    "import re\n",
    "re.match('[가-힣+]', '가나다라')"
   ]
  },
  {
   "cell_type": "code",
   "execution_count": 5,
   "id": "fad6de78-4613-4689-96d9-3b0906815e64",
   "metadata": {},
   "outputs": [
    {
     "name": "stdout",
     "output_type": "stream",
     "text": [
      "['가', '나', '다', '라']\n"
     ]
    }
   ],
   "source": [
    "r = re.findall('[가-힣+]', '가나다라')\n",
    "print(r)"
   ]
  },
  {
   "cell_type": "code",
   "execution_count": 11,
   "id": "b930ee12-f7f9-42f1-89a4-8d74a00cf4db",
   "metadata": {},
   "outputs": [
    {
     "name": "stdout",
     "output_type": "stream",
     "text": [
      "['가', '나', '다', '라']\n"
     ]
    }
   ],
   "source": [
    "R = re.findall('[가-힣]', '가나다라')\n",
    "print(r)"
   ]
  },
  {
   "cell_type": "code",
   "execution_count": 9,
   "id": "2c48775c-558d-4220-a9fe-47a18bdee75b",
   "metadata": {},
   "outputs": [
    {
     "name": "stdout",
     "output_type": "stream",
     "text": [
      "['가', '나', '다', '라']\n"
     ]
    }
   ],
   "source": [
    "r = re.findall('[가-힣]+', '가A나B다C라D')\n",
    "print(r)"
   ]
  },
  {
   "cell_type": "code",
   "execution_count": 15,
   "id": "995f036c-ac09-4bff-a36d-091340fa79eb",
   "metadata": {},
   "outputs": [
    {
     "name": "stdout",
     "output_type": "stream",
     "text": [
      "['010-1234-5678']\n"
     ]
    }
   ],
   "source": [
    "text = \"제 번호는 010-1234-5678입니다\"\n",
    "\n",
    "pattern = '[0-9]{3}-[0-9]{4}-[0-9]{4}'\n",
    "match = re.findall(pattern, text)\n",
    "print(match)"
   ]
  },
  {
   "cell_type": "code",
   "execution_count": 23,
   "id": "8d4a692f-d145-4fb9-8ac3-d36aaad43de0",
   "metadata": {},
   "outputs": [
    {
     "name": "stdout",
     "output_type": "stream",
     "text": [
      "02-123-4567\n",
      "051-234-5678\n",
      "010-1234-5678\n"
     ]
    }
   ],
   "source": [
    "text = \"서울: 02-123-4567, 부산: 051-234-5678, 휴대폰: 010-1234-5678\"\n",
    "pattern = '[0-9]{2,3}-[0-9]{3,4}-[0-9]{4}'\n",
    "matches = re.findall(pattern, text)\n",
    "for m in matches:\n",
    "    print(\"\".join(m))"
   ]
  },
  {
   "cell_type": "code",
   "execution_count": 30,
   "id": "1913e520-8fb5-4e28-a379-cee5529a58d1",
   "metadata": {},
   "outputs": [
    {
     "name": "stdout",
     "output_type": "stream",
     "text": [
      "['01012345678', '010-1234-5678']\n"
     ]
    }
   ],
   "source": [
    "text = \"전화: 01012345678 또는 010-1234-5678\"\n",
    "pattern = '[0-9]{3}-?[0-9]{4}-?[0-9]{4}'\n",
    "matches = re.findall(pattern, text)\n",
    "print(matches)"
   ]
  },
  {
   "cell_type": "code",
   "execution_count": 32,
   "id": "6f22a9b8-b8cd-41bd-9a79-6275efcb91d6",
   "metadata": {},
   "outputs": [
    {
     "name": "stdout",
     "output_type": "stream",
     "text": [
      "['example123@gmail.com', 'test.user@mail.co.kr']\n"
     ]
    }
   ],
   "source": [
    "text = \"이메일: example123@gmail.com, 다른 이메일은 test.user@mail.co.kr\"\n",
    "pattern = r'[a-zA-Z0-9_.+-]+@[a-zA-Z0-9-]+\\.[a-zA-Z0-9-.]+'  #r을 써야 \\ 인식한다.\n",
    "matches = re.findall(pattern, text)\n",
    "print(matches)"
   ]
  },
  {
   "cell_type": "code",
   "execution_count": null,
   "id": "a2a60dc3-18a9-47a6-a807-5634c013b329",
   "metadata": {},
   "outputs": [],
   "source": [
    "a = '자,축,인,묘,진,사,오,미,신,유,술,해'\n",
    "b = '쥐 소 호랑이 토끼 용 뱀 말 양 원숭이 닭 개 돼지'\n",
    "\n",
    "a_list = a.split(',')\n",
    "b_list = b.split(' ')\n",
    "\n",
    "a_b_dict = {}\n",
    "for i in range(len(a_list)):\n",
    "    a_b_dict[a_list[i]] = b_list[i]\n",
    "\n",
    "while True:\n",
    "    text = input(\"십이지신 입력:\")\n",
    "    pattern = r'^[자축인묘진사오미신유술해]$'\n",
    "    matches = re.findall(pattern, text)\n",
    "    if matches:\n",
    "        print(f'{text}에 해당하는 동물은 {a_b_dict[text]}입니다.')\n",
    "    else:\n",
    "        print(\"십이지신이 아닙니다\")\n",
    "        break  # 십이지신이 아닌 경우 프로그램 종료"
   ]
  }
 ],
 "metadata": {
  "kernelspec": {
   "display_name": "Python 3 (ipykernel)",
   "language": "python",
   "name": "python3"
  },
  "language_info": {
   "codemirror_mode": {
    "name": "ipython",
    "version": 3
   },
   "file_extension": ".py",
   "mimetype": "text/x-python",
   "name": "python",
   "nbconvert_exporter": "python",
   "pygments_lexer": "ipython3",
   "version": "3.12.7"
  }
 },
 "nbformat": 4,
 "nbformat_minor": 5
}
