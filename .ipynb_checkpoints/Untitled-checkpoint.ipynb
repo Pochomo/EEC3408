{
 "cells": [
  {
   "cell_type": "markdown",
   "id": "4be30361-7db1-48d1-9ff9-4da81f9f37f8",
   "metadata": {},
   "source": [
    "# 문제 \\# 1"
   ]
  },
  {
   "cell_type": "code",
   "execution_count": 9,
   "id": "acb0841d-e054-4b5f-81ce-7ac330309284",
   "metadata": {},
   "outputs": [],
   "source": [
    "import requests\n",
    "from bs4 import BeautifulSoup\n",
    "\n",
    "url = \"https://news.naver.com/\"\n",
    "resp = requests.get(url)\n",
    "soup = BeautifulSoup(resp.content, 'html.parser')\n",
    "links = soup.find_all('a', class_='cc_text_a _need_nclick _cds_link _nlog_impression')\n",
    "\n",
    "titles = [link.get_text().strip() for link in links]\n",
    "\n",
    "for title in titles:\n",
    "    print(title)\n"
   ]
  },
  {
   "cell_type": "markdown",
   "id": "e9b74b73-58d0-46d0-b68b-f11b82267282",
   "metadata": {},
   "source": [
    "# 문제 \\# 2"
   ]
  },
  {
   "cell_type": "code",
   "execution_count": null,
   "id": "96486f09-8453-4b46-b960-1c68932f9071",
   "metadata": {},
   "outputs": [],
   "source": [
    "import re\n",
    "import urllib.request\n",
    "\n",
    "url = \"https://finance.naver.com/sise/\"\n",
    "html = urllib.request.urlopen(url)\n",
    "html_contents = str(html.read().decode(\"ms949\"))\n",
    "\n",
    "stock_results = re.findall(r\"("
   ]
  }
 ],
 "metadata": {
  "kernelspec": {
   "display_name": "Python 3 (ipykernel)",
   "language": "python",
   "name": "python3"
  },
  "language_info": {
   "codemirror_mode": {
    "name": "ipython",
    "version": 3
   },
   "file_extension": ".py",
   "mimetype": "text/x-python",
   "name": "python",
   "nbconvert_exporter": "python",
   "pygments_lexer": "ipython3",
   "version": "3.12.7"
  }
 },
 "nbformat": 4,
 "nbformat_minor": 5
}
