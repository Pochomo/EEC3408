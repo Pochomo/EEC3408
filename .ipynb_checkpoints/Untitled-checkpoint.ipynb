{
 "cells": [
  {
   "cell_type": "code",
   "execution_count": 13,
   "id": "50689074-a8e6-4132-8275-7247d919d378",
   "metadata": {},
   "outputs": [
    {
     "name": "stdin",
     "output_type": "stream",
     "text": [
      "정수 2개 입력:  2 2\n"
     ]
    },
    {
     "name": "stdout",
     "output_type": "stream",
     "text": [
      "2 + 2 = 4\n",
      "2 - 2 = 0\n",
      "2 * 2 = 4\n",
      "2 / 2 = 1.0\n",
      "2 // 2 = 1\n",
      "2 % 2 = 0\n",
      "2 ** 2 = 4\n"
     ]
    }
   ],
   "source": [
    "a, b = map(int, input('정수 2개 입력: ').split())\n",
    "print(a, '+', b, '=', a+b)\n",
    "print(a, '-', b, '=', a-b)\n",
    "print(a, '*', b, '=', a*b)\n",
    "print(a, '/', b, '=', a/b)\n",
    "print(a, '//', b, '=', a//b)\n",
    "print(a, '%', b, '=', a%b)\n",
    "print(a, '**', b, '=', a**b)"
   ]
  },
  {
   "cell_type": "code",
   "execution_count": 15,
   "id": "9d45c42f-0418-4c45-a3d6-294dda00c53e",
   "metadata": {},
   "outputs": [
    {
     "name": "stdin",
     "output_type": "stream",
     "text": [
      "이름:  2\n",
      "나이:  2\n"
     ]
    },
    {
     "name": "stdout",
     "output_type": "stream",
     "text": [
      "나는 2이고. 나이는 2살이다\n"
     ]
    }
   ],
   "source": [
    "#홍길동 다음에 공백없고 22다음에 공백없음\n",
    "a = input('이름: ')\n",
    "b = int(input('나이: '))\n",
    "print('나는 ', a, '이고. ', '나이는 ', b, '살이다', sep = '')"
   ]
  },
  {
   "cell_type": "code",
   "execution_count": null,
   "id": "43e07483-af8f-46b5-a1bf-ac8da0a633a7",
   "metadata": {},
   "outputs": [],
   "source": [
    "a = int(input('반지름 입력: '))\n",
    "pi = 3.14\n",
    "print('원의 반지름은 ', a, '입니다', sep = '')\n",
    "print('원의 둘레은 ', 2*pi*a , '입니다', sep = '')\n",
    "print('원의 면적은 ', pi*(a**2), '입니다', sep = '')\n",
    "print(2*pi*a == class(float))"
   ]
  },
  {
   "cell_type": "code",
   "execution_count": null,
   "id": "dc2e9300-b054-47aa-8588-f4606c9c2e34",
   "metadata": {},
   "outputs": [],
   "source": []
  }
 ],
 "metadata": {
  "kernelspec": {
   "display_name": "Python 3 (ipykernel)",
   "language": "python",
   "name": "python3"
  },
  "language_info": {
   "codemirror_mode": {
    "name": "ipython",
    "version": 3
   },
   "file_extension": ".py",
   "mimetype": "text/x-python",
   "name": "python",
   "nbconvert_exporter": "python",
   "pygments_lexer": "ipython3",
   "version": "3.12.4"
  }
 },
 "nbformat": 4,
 "nbformat_minor": 5
}
