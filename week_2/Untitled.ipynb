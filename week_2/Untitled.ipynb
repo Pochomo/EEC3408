{
 "cells": [
  {
   "cell_type": "code",
   "execution_count": 13,
   "id": "50689074-a8e6-4132-8275-7247d919d378",
   "metadata": {},
   "outputs": [
    {
     "name": "stdout",
     "output_type": "stream",
     "text": [
      "정수 2개 입력:  2 2\n"
     ]
    },
    {
     "name": "stdout",
     "output_type": "stream",
     "text": [
      "2 + 2 = 4\n",
      "2 - 2 = 0\n",
      "2 * 2 = 4\n",
      "2 / 2 = 1.0\n",
      "2 // 2 = 1\n",
      "2 % 2 = 0\n",
      "2 ** 2 = 4\n"
     ]
    }
   ],
   "source": [
    "a, b = map(int, input('정수 2개 입력: ').split())\n",
    "print(a, '+', b, '=', a+b)\n",
    "print(a, '-', b, '=', a-b)\n",
    "print(a, '*', b, '=', a*b)\n",
    "print(a, '/', b, '=', a/b)\n",
    "print(a, '//', b, '=', a//b)\n",
    "print(a, '%', b, '=', a%b)\n",
    "print(a, '**', b, '=', a**b)"
   ]
  },
  {
   "cell_type": "code",
   "execution_count": 27,
   "id": "9d45c42f-0418-4c45-a3d6-294dda00c53e",
   "metadata": {},
   "outputs": [
    {
     "name": "stdout",
     "output_type": "stream",
     "text": [
      "이름:  홍길동\n",
      "나이:  22\n"
     ]
    },
    {
     "name": "stdout",
     "output_type": "stream",
     "text": [
      "나는 홍길동이고. 나이는 22살이다\n"
     ]
    }
   ],
   "source": [
    "#홍길동 다음에 공백없고 22다음에 공백없음\n",
    "a = input('이름: ')\n",
    "b = int(input('나이: '))\n",
    "print('나는 ', a, '이고. ', '나이는 ', b, '살이다', sep = '')"
   ]
  },
  {
   "cell_type": "code",
   "execution_count": 26,
   "id": "43e07483-af8f-46b5-a1bf-ac8da0a633a7",
   "metadata": {},
   "outputs": [
    {
     "name": "stdout",
     "output_type": "stream",
     "text": [
      "반지름 입력:  8\n"
     ]
    },
    {
     "name": "stdout",
     "output_type": "stream",
     "text": [
      "원의 반지름은 8.0입니다\n",
      "원의 둘레은 50.24입니다\n",
      "원의 면적은 200.96입니다\n"
     ]
    }
   ],
   "source": [
    "a = float(input('반지름 입력: '))\n",
    "pi = 3.14\n",
    "print('원의 반지름은 ', a, '입니다', sep = '')\n",
    "print('원의 둘레은 ', 2*pi*a , '입니다', sep = '')\n",
    "print('원의 면적은 ', pi*(a**2), '입니다', sep = '')"
   ]
  },
  {
   "cell_type": "code",
   "execution_count": null,
   "id": "dc2e9300-b054-47aa-8588-f4606c9c2e34",
   "metadata": {},
   "outputs": [],
   "source": [
    "c = float(input('섭씨 입력: '))\n",
    "f = c * 9/5 + 32\n",
    "k = c + 273.15  \n",
    "r = c * 9/5 + 491.67\n",
    "print('화씨는 ', f, '입니다', sep = '')\n",
    "print('켈빈은 ', k, '입니다', sep = '')\n",
    "print('랭킨은 ', format(r, \".2f\"), '입니다', sep = '')"
   ]
  },
  {
   "cell_type": "code",
   "execution_count": 50,
   "id": "464d9b72-547b-4359-8870-c919546b0281",
   "metadata": {},
   "outputs": [
    {
     "name": "stdout",
     "output_type": "stream",
     "text": [
      "2*1=2,\t2*2=4,\t2*3=6,\t2*4=8,\t2*5=10,\t2*6=12,\t2*7=14,\t2*8=16,\t2*9=18\n",
      "3*1=3,\t3*2=6,\t3*3=9,\t3*4=12,\t3*5=15,\t3*6=18,\t3*7=21,\t3*8=24,\t3*9=27\n",
      "4*1=4,\t4*2=8,\t4*3=12,\t4*4=16,\t4*5=20,\t4*6=24,\t4*7=28,\t4*8=32,\t4*9=36\n",
      "5*1=5,\t5*2=10,\t5*3=15,\t5*4=20,\t5*5=25,\t5*6=30,\t5*7=35,\t5*8=40,\t5*9=45\n",
      "6*1=6,\t6*2=12,\t6*3=18,\t6*4=24,\t6*5=30,\t6*6=36,\t6*7=42,\t6*8=48,\t6*9=54\n",
      "7*1=7,\t7*2=14,\t7*3=21,\t7*4=28,\t7*5=35,\t7*6=42,\t7*7=49,\t7*8=56,\t7*9=63\n",
      "8*1=8,\t8*2=16,\t8*3=24,\t8*4=32,\t8*5=40,\t8*6=48,\t8*7=56,\t8*8=64,\t8*9=72\n",
      "9*1=9,\t9*2=18,\t9*3=27,\t9*4=36,\t9*5=45,\t9*6=54,\t9*7=63,\t9*8=72,\t9*9=81\n"
     ]
    }
   ],
   "source": [
    "for i in range(2, 10):\n",
    "    for j in range(1, 10):\n",
    "        print(i, '*', j, \"=\", i*j, sep='', end='')\n",
    "        if j < 9:\n",
    "            print(\",\\t\", end='')\n",
    "    print()"
   ]
  },
  {
   "cell_type": "code",
   "execution_count": 62,
   "id": "b1336004-2453-4c9e-91ec-280254380e1d",
   "metadata": {
    "scrolled": true
   },
   "outputs": [
    {
     "name": "stdout",
     "output_type": "stream",
     "text": [
      "2*1=2,\t3*1=3,\t4*1=4,\t5*1=5,\t6*1=6,\t7*1=7,\t8*1=8,\t9*1=9\n",
      "2*2=4,\t3*2=6,\t4*2=8,\t5*2=10,\t6*2=12,\t7*2=14,\t8*2=16,\t9*2=18\n",
      "2*3=6,\t3*3=9,\t4*3=12,\t5*3=15,\t6*3=18,\t7*3=21,\t8*3=24,\t9*3=27\n",
      "2*4=8,\t3*4=12,\t4*4=16,\t5*4=20,\t6*4=24,\t7*4=28,\t8*4=32,\t9*4=36\n",
      "2*5=10,\t3*5=15,\t4*5=20,\t5*5=25,\t6*5=30,\t7*5=35,\t8*5=40,\t9*5=45\n",
      "2*6=12,\t3*6=18,\t4*6=24,\t5*6=30,\t6*6=36,\t7*6=42,\t8*6=48,\t9*6=54\n",
      "2*7=14,\t3*7=21,\t4*7=28,\t5*7=35,\t6*7=42,\t7*7=49,\t8*7=56,\t9*7=63\n",
      "2*8=16,\t3*8=24,\t4*8=32,\t5*8=40,\t6*8=48,\t7*8=56,\t8*8=64,\t9*8=72\n",
      "2*9=18,\t3*9=27,\t4*9=36,\t5*9=45,\t6*9=54,\t7*9=63,\t8*9=72,\t9*9=81\n"
     ]
    }
   ],
   "source": [
    "for i in range(1, 10):\n",
    "    for j in range(2, 10):\n",
    "        print(j, '*', i, \"=\", i*j, sep='', end='')\n",
    "        if j < 9:\n",
    "            print(\",\\t\", end='')\n",
    "    print()"
   ]
  },
  {
   "cell_type": "code",
   "execution_count": 63,
   "id": "1e5a8839-c8c9-4f2d-8d66-17175e18aada",
   "metadata": {},
   "outputs": [
    {
     "name": "stdout",
     "output_type": "stream",
     "text": [
      "정수 두개를 입력하세요:  4 2\n",
      "v 또는 h를 입력하세요:  v\n"
     ]
    },
    {
     "name": "stdout",
     "output_type": "stream",
     "text": [
      "2*1=2,\t3*1=3,\t4*1=4\n",
      "2*2=4,\t3*2=6,\t4*2=8\n",
      "2*3=6,\t3*3=9,\t4*3=12\n",
      "2*4=8,\t3*4=12,\t4*4=16\n",
      "2*5=10,\t3*5=15,\t4*5=20\n",
      "2*6=12,\t3*6=18,\t4*6=24\n",
      "2*7=14,\t3*7=21,\t4*7=28\n",
      "2*8=16,\t3*8=24,\t4*8=32\n",
      "2*9=18,\t3*9=27,\t4*9=36\n"
     ]
    }
   ],
   "source": [
    "a, b = map(int, input('정수 두개를 입력하세요: ').split())\n",
    "s = input('v 또는 h를 입력하세요: ')\n",
    "\n",
    "if(a > b):\n",
    "    temp = b\n",
    "    b = a\n",
    "    a = temp\n",
    "\n",
    "if(s == 'v'):\n",
    "    for i in range(1, 10):\n",
    "        for j in range(a, b+1):\n",
    "            print(j, '*', i, \"=\", i*j, sep='', end='')\n",
    "            if j < b:\n",
    "                print(\",\\t\", end='')\n",
    "        print()\n",
    "elif(s == 'h'):\n",
    "    for i in range(a, b+1):\n",
    "        for j in range(1, 10):\n",
    "            print(i, '*', j, \"=\", i*j, sep='', end='')\n",
    "            if j < b:\n",
    "                print(\",\\t\", end='')\n",
    "        print()"
   ]
  },
  {
   "cell_type": "code",
   "execution_count": null,
   "id": "204d5835-6a6c-491d-80cf-6142220f3d98",
   "metadata": {},
   "outputs": [],
   "source": []
  }
 ],
 "metadata": {
  "kernelspec": {
   "display_name": "base",
   "language": "python",
   "name": "python3"
  },
  "language_info": {
   "codemirror_mode": {
    "name": "ipython",
    "version": 3
   },
   "file_extension": ".py",
   "mimetype": "text/x-python",
   "name": "python",
   "nbconvert_exporter": "python",
   "pygments_lexer": "ipython3",
   "version": "3.12.7"
  }
 },
 "nbformat": 4,
 "nbformat_minor": 5
}
