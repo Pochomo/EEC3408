{
 "cells": [
  {
   "cell_type": "markdown",
   "id": "73334e6b-fd03-4e49-a11b-d9c2665109c3",
   "metadata": {},
   "source": [
    "# 실습 1"
   ]
  },
  {
   "cell_type": "code",
   "execution_count": 2,
   "id": "48cee69b-7982-4dcd-b707-ab6ebc1ce566",
   "metadata": {},
   "outputs": [
    {
     "name": "stdout",
     "output_type": "stream",
     "text": [
      "[10, 20, 30, 40, 50, 60]\n"
     ]
    }
   ],
   "source": [
    "arr = list(range(10, 61, 10))\n",
    "print(arr) # []를 포함해 리스트 값 추가\n"
   ]
  },
  {
   "cell_type": "markdown",
   "id": "3b124e85-448e-477f-abfa-7dc475d1f6b3",
   "metadata": {},
   "source": [
    "# 실습 2"
   ]
  },
  {
   "cell_type": "code",
   "execution_count": 3,
   "id": "64605915-2c08-4f64-9386-8318070057d3",
   "metadata": {},
   "outputs": [
    {
     "name": "stdout",
     "output_type": "stream",
     "text": [
      "합계: 210\n",
      "평균: 35.0\n",
      "최댓값: 60\n",
      "최솟값: 10\n"
     ]
    }
   ],
   "source": [
    "s = sum(arr) #sum() 사용해서 리스트 합계 계산\n",
    "print(\"합계:\", s)\n",
    "\n",
    "avg = s / len(arr) #avg는 len으로 나눠서 직접 계산해야함\n",
    "print(\"평균:\", avg)\n",
    "\n",
    "max_num = max(arr) #리스트최대값 초기화 \n",
    "min_num = min(arr) #최소값 초기화\n",
    "\n",
    "print(\"최댓값:\", max_num)\n",
    "print(\"최솟값:\", min_num)"
   ]
  },
  {
   "cell_type": "markdown",
   "id": "f7e47816-030f-464e-89d3-80aa379a4c6b",
   "metadata": {},
   "source": [
    "# 실습3"
   ]
  },
  {
   "cell_type": "code",
   "execution_count": 31,
   "id": "aae9eb5c-5e3d-4466-9570-c64d13769329",
   "metadata": {},
   "outputs": [
    {
     "name": "stdin",
     "output_type": "stream",
     "text": [
      "양의 정수 입력:  101\n"
     ]
    },
    {
     "name": "stdout",
     "output_type": "stream",
     "text": [
      "[6, 97, 22, 4, 13, 39, 84, 92, 24, 23, 16, 20, 65, 90, 84, 6, 36, 49, 69, 7, 99, 88, 63, 5, 2, 86, 54, 46, 53, 13, 82, 33, 31, 92, 56, 33, 90, 53, 84, 8, 72, 29, 30, 65, 40, 82, 28, 66, 7, 73, 50, 9, 27, 74, 52, 51, 53, 78, 89, 75, 35, 55, 84, 94, 79, 40, 4, 41, 12, 11, 29, 80, 50, 74, 30, 15, 11, 51, 23, 98, 56, 33, 8, 19, 27, 34, 22, 70, 21, 29, 22, 71, 2, 72, 92, 22, 52, 15, 23, 76, 1]\n",
      "합계: 4650\n",
      "평균: 46.039603960396036\n",
      "최댓값: 99\n",
      "최솟값: 1\n"
     ]
    }
   ],
   "source": [
    "import random\n",
    "\n",
    "n = int(input(\"양의 정수 입력: \"))\n",
    "\n",
    "if n <= 0:\n",
    "    print(\"wrong answer\") #0 이하 값 받으면 wrong answer 출력\n",
    "else:\n",
    "    arr = []\n",
    "    for _ in range(n):\n",
    "        arr.append(random.randint(1, 100))\n",
    "    print(arr)\n",
    "    s = sum(arr)\n",
    "    print(\"합계:\", s)\n",
    "    \n",
    "    avg = s / len(arr)\n",
    "    print(\"평균:\", avg)\n",
    "    \n",
    "    max_num = max(arr)\n",
    "    min_num = min(arr)\n",
    "    \n",
    "    print(\"최댓값:\", max_num)\n",
    "    print(\"최솟값:\", min_num)"
   ]
  },
  {
   "cell_type": "markdown",
   "id": "48f65648-07b3-48ab-a7f1-9c73965282a9",
   "metadata": {},
   "source": [
    "# 실습4"
   ]
  },
  {
   "cell_type": "code",
   "execution_count": 17,
   "id": "6ffe83ce-0155-452d-b76f-3de7a69b4f3a",
   "metadata": {},
   "outputs": [
    {
     "name": "stdin",
     "output_type": "stream",
     "text": [
      "숫자 입력 45 67 20 34 2 100 23 45 67 89\n"
     ]
    },
    {
     "name": "stdout",
     "output_type": "stream",
     "text": [
      "합계: 492\n",
      "평균: 49.2\n",
      "표준편차: 29.72\n"
     ]
    }
   ],
   "source": [
    "arr = list(map(int, input(\"숫자 입력\").split())) #숫자입력하면 합계 평균 표준편차 출력 \n",
    "s = sum(arr)\n",
    "print(\"합계:\", s)\n",
    "avg = s / len(arr)\n",
    "print(\"평균:\", avg)\n",
    "std = 0\n",
    "for i in range(len(arr)):\n",
    "    std += (arr[i] - avg)**2 #순서대로 계산\n",
    "std = (std / len(arr))**(1/2)\n",
    "std = round(std, 2)\n",
    "print(\"표준편차:\", std)"
   ]
  },
  {
   "cell_type": "markdown",
   "id": "d34e56d3-8e86-43c8-b10f-5796420d2989",
   "metadata": {},
   "source": [
    "# 실습5"
   ]
  },
  {
   "cell_type": "code",
   "execution_count": 24,
   "id": "5a7e15c2-d59b-4442-a0aa-a92776373a3c",
   "metadata": {},
   "outputs": [
    {
     "name": "stdin",
     "output_type": "stream",
     "text": [
      "양의 정수 입력:  5\n"
     ]
    },
    {
     "name": "stdout",
     "output_type": "stream",
     "text": [
      "1 2 3 4 5\n",
      "6 7 8 9 10\n",
      "11 12 13 14 15\n",
      "16 17 18 19 20\n",
      "21 22 23 24 25\n"
     ]
    }
   ],
   "source": [
    "n = int(input(\"양의 정수 입력: \"))\n",
    "arr = list(range(1, (n*n) + 1))\n",
    "for i in range(n, n*n + 1, n): # n = 5일때 25까지 반복\n",
    "    print(*arr[i-n:i]) #i를 활용해서 슬라이스를 효율적으로 진행"
   ]
  },
  {
   "cell_type": "markdown",
   "id": "246ca37f-69a7-4901-a539-ee6f27876f3d",
   "metadata": {},
   "source": [
    "# 실습6"
   ]
  },
  {
   "cell_type": "code",
   "execution_count": 26,
   "id": "8d2267af-9c07-4f0f-810e-29b83f66f304",
   "metadata": {},
   "outputs": [
    {
     "name": "stdin",
     "output_type": "stream",
     "text": [
      " 0 0\n"
     ]
    },
    {
     "name": "stdout",
     "output_type": "stream",
     "text": [
      "섭씨  0 도:  화씨 32.0 도\n"
     ]
    }
   ],
   "source": [
    "def ctof(c):\n",
    "    f = c * (9/5) + 32\n",
    "    return f\n",
    "def ctok(c):\n",
    "    k = c + 273.15\n",
    "    return k\n",
    "def ftoc(f):\n",
    "    c = (f - 32) * (9/5)\n",
    "def ftok(f):\n",
    "    k = (f + 459.67) * (9/5)\n",
    "def ktoc(k):\n",
    "    c = k - 273.15\n",
    "def ktof(k):\n",
    "    f = k * (9/5) - 459.67 #각 함수 정의\n",
    "#실습6(2)\n",
    "c, f = map(int, input().split())\n",
    "print(\"섭씨 \", c ,\"도: \", \"화씨\", ctof(c), \"도\")"
   ]
  },
  {
   "cell_type": "markdown",
   "id": "88243984-5177-4f50-9147-93cd65e30a19",
   "metadata": {},
   "source": [
    "# 실습7"
   ]
  },
  {
   "cell_type": "code",
   "execution_count": 29,
   "id": "cec0d410-6cf6-4aa0-9201-2163e2742340",
   "metadata": {},
   "outputs": [
    {
     "name": "stdin",
     "output_type": "stream",
     "text": [
      "문자열 길이에 상관없이 입력해주세요(규칙은 1자리 문자와 1자리 숫자를 번갈아서) a4b3\n"
     ]
    },
    {
     "name": "stdout",
     "output_type": "stream",
     "text": [
      "aaaabbb\n"
     ]
    }
   ],
   "source": [
    "src = input(\"문자열 길이에 상관없이 입력해주세요(규칙은 1자리 문자와 1자리 숫자를 번갈아서)\")\n",
    "dest = \"\"\n",
    "for i in range(0, len(src), 2):\n",
    "    index_x = i + 1\n",
    "    dest += src[i] * int(src[index_x]) #src[index_x] 는 str을 return하기 때문에 int() 해야한다\n",
    "print(dest)\n"
   ]
  }
 ],
 "metadata": {
  "kernelspec": {
   "display_name": "Python 3 (ipykernel)",
   "language": "python",
   "name": "python3"
  },
  "language_info": {
   "codemirror_mode": {
    "name": "ipython",
    "version": 3
   },
   "file_extension": ".py",
   "mimetype": "text/x-python",
   "name": "python",
   "nbconvert_exporter": "python",
   "pygments_lexer": "ipython3",
   "version": "3.12.4"
  }
 },
 "nbformat": 4,
 "nbformat_minor": 5
}
